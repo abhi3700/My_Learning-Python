{
 "cells": [
  {
   "cell_type": "markdown",
   "metadata": {},
   "source": [
    "# Numpy, Polars\n",
    "\n",
    "This notebook is to explore the useful functions of these two libraries."
   ]
  },
  {
   "cell_type": "markdown",
   "metadata": {},
   "source": [
    "## Numpy"
   ]
  },
  {
   "cell_type": "code",
   "execution_count": 28,
   "metadata": {},
   "outputs": [],
   "source": [
    "import numpy as np"
   ]
  },
  {
   "cell_type": "code",
   "execution_count": 29,
   "metadata": {},
   "outputs": [
    {
     "data": {
      "text/plain": [
       "array([1, 2, 3, 4, 5])"
      ]
     },
     "execution_count": 29,
     "metadata": {},
     "output_type": "execute_result"
    }
   ],
   "source": [
    "np.array([1, 2, 3, 4, 5])"
   ]
  },
  {
   "cell_type": "code",
   "execution_count": 30,
   "metadata": {},
   "outputs": [
    {
     "data": {
      "text/plain": [
       "array([3, 4, 2, 3])"
      ]
     },
     "execution_count": 30,
     "metadata": {},
     "output_type": "execute_result"
    }
   ],
   "source": [
    "np.array([3.14, 4, 2, 3]).astype(int)"
   ]
  },
  {
   "cell_type": "markdown",
   "metadata": {},
   "source": [
    "## Polars\n",
    "\n",
    "### Key points\n",
    "- Use `.to_numpy()` to convert a Polars DataFrame to a Numpy array.\n",
    "  > Numpy arrays are nd-array which means you have use `.flatten()` to convert it to a 1D array like `.to_numpy().flatten()`.\n",
    "- In order to get the length of a Polars DataFrame, use `df.shape[0]` instead of `len(df)`.\n",
    "- Select columns using `df['column_name']` or `df.select('column_name')`."
   ]
  },
  {
   "cell_type": "code",
   "execution_count": 31,
   "metadata": {},
   "outputs": [],
   "source": [
    "import polars as pl"
   ]
  },
  {
   "cell_type": "code",
   "execution_count": 32,
   "metadata": {},
   "outputs": [
    {
     "data": {
      "text/html": [
       "<div><style>\n",
       ".dataframe > thead > tr,\n",
       ".dataframe > tbody > tr {\n",
       "  text-align: right;\n",
       "  white-space: pre-wrap;\n",
       "}\n",
       "</style>\n",
       "<small>shape: (5, 10)</small><table border=\"1\" class=\"dataframe\"><thead><tr><th>Id</th><th>ProductId</th><th>UserId</th><th>ProfileName</th><th>HelpfulnessNumerator</th><th>HelpfulnessDenominator</th><th>Score</th><th>Time</th><th>Summary</th><th>Text</th></tr><tr><td>i64</td><td>str</td><td>str</td><td>str</td><td>i64</td><td>i64</td><td>i64</td><td>i64</td><td>str</td><td>str</td></tr></thead><tbody><tr><td>1</td><td>&quot;B001E4KFG0&quot;</td><td>&quot;A3SGXH7AUHU8GW…</td><td>&quot;delmartian&quot;</td><td>1</td><td>1</td><td>5</td><td>1303862400</td><td>&quot;Good Quality D…</td><td>&quot;I have bought …</td></tr><tr><td>2</td><td>&quot;B00813GRG4&quot;</td><td>&quot;A1D87F6ZCVE5NK…</td><td>&quot;dll pa&quot;</td><td>0</td><td>0</td><td>1</td><td>1346976000</td><td>&quot;Not as Adverti…</td><td>&quot;Product arrive…</td></tr><tr><td>3</td><td>&quot;B000LQOCH0&quot;</td><td>&quot;ABXLMWJIXXAIN&quot;</td><td>&quot;Natalia Corres…</td><td>1</td><td>1</td><td>4</td><td>1219017600</td><td>&quot;&quot;Delight&quot; says…</td><td>&quot;This is a conf…</td></tr><tr><td>4</td><td>&quot;B000UA0QIQ&quot;</td><td>&quot;A395BORC6FGVXV…</td><td>&quot;Karl&quot;</td><td>3</td><td>3</td><td>2</td><td>1307923200</td><td>&quot;Cough Medicine…</td><td>&quot;If you are loo…</td></tr><tr><td>5</td><td>&quot;B006K2ZZ7K&quot;</td><td>&quot;A1UQRSCLF8GW1T…</td><td>&quot;Michael D. Big…</td><td>0</td><td>0</td><td>5</td><td>1350777600</td><td>&quot;Great taffy&quot;</td><td>&quot;Great taffy at…</td></tr></tbody></table></div>"
      ],
      "text/plain": [
       "shape: (5, 10)\n",
       "┌─────┬────────────┬─────────────┬─────────────┬───┬───────┬────────────┬─────────────┬────────────┐\n",
       "│ Id  ┆ ProductId  ┆ UserId      ┆ ProfileName ┆ … ┆ Score ┆ Time       ┆ Summary     ┆ Text       │\n",
       "│ --- ┆ ---        ┆ ---         ┆ ---         ┆   ┆ ---   ┆ ---        ┆ ---         ┆ ---        │\n",
       "│ i64 ┆ str        ┆ str         ┆ str         ┆   ┆ i64   ┆ i64        ┆ str         ┆ str        │\n",
       "╞═════╪════════════╪═════════════╪═════════════╪═══╪═══════╪════════════╪═════════════╪════════════╡\n",
       "│ 1   ┆ B001E4KFG0 ┆ A3SGXH7AUHU ┆ delmartian  ┆ … ┆ 5     ┆ 1303862400 ┆ Good        ┆ I have     │\n",
       "│     ┆            ┆ 8GW         ┆             ┆   ┆       ┆            ┆ Quality Dog ┆ bought     │\n",
       "│     ┆            ┆             ┆             ┆   ┆       ┆            ┆ Food        ┆ several of │\n",
       "│     ┆            ┆             ┆             ┆   ┆       ┆            ┆             ┆ the Vit…   │\n",
       "│ 2   ┆ B00813GRG4 ┆ A1D87F6ZCVE ┆ dll pa      ┆ … ┆ 1     ┆ 1346976000 ┆ Not as      ┆ Product    │\n",
       "│     ┆            ┆ 5NK         ┆             ┆   ┆       ┆            ┆ Advertised  ┆ arrived    │\n",
       "│     ┆            ┆             ┆             ┆   ┆       ┆            ┆             ┆ labeled as │\n",
       "│     ┆            ┆             ┆             ┆   ┆       ┆            ┆             ┆ Jumbo…     │\n",
       "│ 3   ┆ B000LQOCH0 ┆ ABXLMWJIXXA ┆ Natalia     ┆ … ┆ 4     ┆ 1219017600 ┆ \"Delight\"   ┆ This is a  │\n",
       "│     ┆            ┆ IN          ┆ Corres      ┆   ┆       ┆            ┆ says it all ┆ confection │\n",
       "│     ┆            ┆             ┆ \"Natalia    ┆   ┆       ┆            ┆             ┆ that has   │\n",
       "│     ┆            ┆             ┆ Corres\"     ┆   ┆       ┆            ┆             ┆ be…        │\n",
       "│ 4   ┆ B000UA0QIQ ┆ A395BORC6FG ┆ Karl        ┆ … ┆ 2     ┆ 1307923200 ┆ Cough       ┆ If you are │\n",
       "│     ┆            ┆ VXV         ┆             ┆   ┆       ┆            ┆ Medicine    ┆ looking    │\n",
       "│     ┆            ┆             ┆             ┆   ┆       ┆            ┆             ┆ for the    │\n",
       "│     ┆            ┆             ┆             ┆   ┆       ┆            ┆             ┆ secre…     │\n",
       "│ 5   ┆ B006K2ZZ7K ┆ A1UQRSCLF8G ┆ Michael D.  ┆ … ┆ 5     ┆ 1350777600 ┆ Great taffy ┆ Great      │\n",
       "│     ┆            ┆ W1T         ┆ Bigham \"M.  ┆   ┆       ┆            ┆             ┆ taffy at a │\n",
       "│     ┆            ┆             ┆ Wassir\"     ┆   ┆       ┆            ┆             ┆ great      │\n",
       "│     ┆            ┆             ┆             ┆   ┆       ┆            ┆             ┆ price.  T… │\n",
       "└─────┴────────────┴─────────────┴─────────────┴───┴───────┴────────────┴─────────────┴────────────┘"
      ]
     },
     "execution_count": 32,
     "metadata": {},
     "output_type": "execute_result"
    }
   ],
   "source": [
    "df = pl.read_csv('./data/fine_food_reviews_1k.csv')\n",
    "# get 1st 5 rows\n",
    "df.head()"
   ]
  },
  {
   "cell_type": "code",
   "execution_count": 33,
   "metadata": {},
   "outputs": [
    {
     "data": {
      "text/plain": [
       "(568454, 10)"
      ]
     },
     "execution_count": 33,
     "metadata": {},
     "output_type": "execute_result"
    }
   ],
   "source": [
    "# Get the no. of rows and columns in the dataframe\n",
    "rows, cols = df.shape\n",
    "rows, cols"
   ]
  },
  {
   "cell_type": "code",
   "execution_count": 34,
   "metadata": {},
   "outputs": [
    {
     "name": "stdout",
     "output_type": "stream",
     "text": [
      "[['A3SGXH7AUHU8GW']\n",
      " ['A1D87F6ZCVE5NK']\n",
      " ['ABXLMWJIXXAIN']\n",
      " ['A395BORC6FGVXV']\n",
      " ['A1UQRSCLF8GW1T']]\n"
     ]
    }
   ],
   "source": [
    "# get 1st 5 user ids as an array\n",
    "print(df.select('UserId').head(5).to_numpy())\n"
   ]
  },
  {
   "cell_type": "code",
   "execution_count": 35,
   "metadata": {},
   "outputs": [],
   "source": [
    "# get 1st user id\n",
    "user1 = df.select('UserId').head(5)[0].to_numpy().flatten()[0]\n",
    "assert user1 == 'A3SGXH7AUHU8GW'"
   ]
  },
  {
   "cell_type": "code",
   "execution_count": 36,
   "metadata": {},
   "outputs": [
    {
     "name": "stdout",
     "output_type": "stream",
     "text": [
      "['I have bought several of the Vitality canned dog food products and have found them all to be of good quality. The product looks more like a stew than a processed meat and it smells better. My Labrador is finicky and she appreciates this product better than  most.'\n",
      " 'Product arrived labeled as Jumbo Salted Peanuts...the peanuts were actually small sized unsalted. Not sure if this was an error or if the vendor intended to represent the product as \"Jumbo\".'\n",
      " 'This is a confection that has been around a few centuries.  It is a light, pillowy citrus gelatin with nuts - in this case Filberts. And it is cut into tiny squares and then liberally coated with powdered sugar.  And it is a tiny mouthful of heaven.  Not too chewy, and very flavorful.  I highly recommend this yummy treat.  If you are familiar with the story of C.S. Lewis\\' \"The Lion, The Witch, and The Wardrobe\" - this is the treat that seduces Edmund into selling out his Brother and Sisters to the Witch.'\n",
      " 'If you are looking for the secret ingredient in Robitussin I believe I have found it.  I got this in addition to the Root Beer Extract I ordered (which was good) and made some cherry soda.  The flavor is very medicinal.'\n",
      " 'Great taffy at a great price.  There was a wide assortment of yummy taffy.  Delivery was very quick.  If your a taffy lover, this is a deal.']\n"
     ]
    }
   ],
   "source": [
    "# get 1st 5 user reviews as array\n",
    "print(df.select('Text').head(5).to_numpy().flatten())"
   ]
  },
  {
   "cell_type": "code",
   "execution_count": 43,
   "metadata": {},
   "outputs": [
    {
     "data": {
      "text/plain": [
       "'I have bought several of the Vitality canned dog food products and have found them all to be of good quality. The product looks more like a stew than a processed meat and it smells better. My Labrador is finicky and she appreciates this product better than  most.'"
      ]
     },
     "execution_count": 43,
     "metadata": {},
     "output_type": "execute_result"
    }
   ],
   "source": [
    "# get the index-0 review\n",
    "df.select('Text').to_numpy().flatten()[0]    # get the 0th indexed review like in rust debug mode\n",
    "# print(df.select('Text').to_numpy().flatten()[0])  # get the 1st review"
   ]
  },
  {
   "cell_type": "code",
   "execution_count": 44,
   "metadata": {},
   "outputs": [
    {
     "data": {
      "text/plain": [
       "'This is a very healthy dog food. Good for their digestion. Also good for small puppies. My dog eats her required amount at every feeding.'"
      ]
     },
     "execution_count": 44,
     "metadata": {},
     "output_type": "execute_result"
    }
   ],
   "source": [
    "# get the index-9 review\n",
    "df.select('Text').to_numpy().flatten()[9]   # get the index-9 review like in rust debug mode\n",
    "# print(df.select('Text').to_numpy().flatten()[9])"
   ]
  },
  {
   "cell_type": "code",
   "execution_count": 45,
   "metadata": {},
   "outputs": [
    {
     "name": "stdout",
     "output_type": "stream",
     "text": [
      "['I have bought several of the Vitality canned dog food products and have found them all to be of good quality. The product looks more like a stew than a processed meat and it smells better. My Labrador is finicky and she appreciates this product better than  most.'\n",
      " 'Product arrived labeled as Jumbo Salted Peanuts...the peanuts were actually small sized unsalted. Not sure if this was an error or if the vendor intended to represent the product as \"Jumbo\".'\n",
      " 'This is a confection that has been around a few centuries.  It is a light, pillowy citrus gelatin with nuts - in this case Filberts. And it is cut into tiny squares and then liberally coated with powdered sugar.  And it is a tiny mouthful of heaven.  Not too chewy, and very flavorful.  I highly recommend this yummy treat.  If you are familiar with the story of C.S. Lewis\\' \"The Lion, The Witch, and The Wardrobe\" - this is the treat that seduces Edmund into selling out his Brother and Sisters to the Witch.'\n",
      " 'If you are looking for the secret ingredient in Robitussin I believe I have found it.  I got this in addition to the Root Beer Extract I ordered (which was good) and made some cherry soda.  The flavor is very medicinal.'\n",
      " 'Great taffy at a great price.  There was a wide assortment of yummy taffy.  Delivery was very quick.  If your a taffy lover, this is a deal.'\n",
      " 'I got a wild hair for taffy and ordered this five pound bag. The taffy was all very enjoyable with many flavors: watermelon, root beer, melon, peppermint, grape, etc. My only complaint is there was a bit too much red/black licorice-flavored pieces (just not my particular favorites). Between me, my kids, and my husband, this lasted only two weeks! I would recommend this brand of taffy -- it was a delightful treat.'\n",
      " \"This saltwater taffy had great flavors and was very soft and chewy.  Each candy was individually wrapped well.  None of the candies were stuck together, which did happen in the expensive version, Fralinger's.  Would highly recommend this candy!  I served it at a beach-themed party and everyone loved it!\"\n",
      " 'This taffy is so good.  It is very soft and chewy.  The flavors are amazing.  I would definitely recommend you buying it.  Very satisfying!!'\n",
      " \"Right now I'm mostly just sprouting this so my cats can eat the grass. They love it. I rotate it around with Wheatgrass and Rye too\"\n",
      " 'This is a very healthy dog food. Good for their digestion. Also good for small puppies. My dog eats her required amount at every feeding.']\n"
     ]
    }
   ],
   "source": [
    "# Get the entire column i.e. all the reviews\n",
    "reviews = df.select('Text').to_numpy().flatten()\n",
    "print(reviews[:10])"
   ]
  },
  {
   "cell_type": "code",
   "execution_count": 53,
   "metadata": {},
   "outputs": [
    {
     "name": "stdout",
     "output_type": "stream",
     "text": [
      "True\n"
     ]
    }
   ],
   "source": [
    "def contains_zero(arr) -> bool:\n",
    "    return 0 in arr\n",
    "\n",
    "# Example usage\n",
    "my_array = [1, 2, 3, 4, 0, 0]\n",
    "print(contains_zero(my_array))\n"
   ]
  },
  {
   "cell_type": "code",
   "execution_count": null,
   "metadata": {},
   "outputs": [],
   "source": []
  }
 ],
 "metadata": {
  "kernelspec": {
   "display_name": "Python 3",
   "language": "python",
   "name": "python3"
  },
  "language_info": {
   "codemirror_mode": {
    "name": "ipython",
    "version": 3
   },
   "file_extension": ".py",
   "mimetype": "text/x-python",
   "name": "python",
   "nbconvert_exporter": "python",
   "pygments_lexer": "ipython3",
   "version": "3.11.3"
  }
 },
 "nbformat": 4,
 "nbformat_minor": 2
}
