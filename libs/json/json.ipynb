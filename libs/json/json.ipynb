{
 "cells": [
  {
   "cell_type": "markdown",
   "metadata": {},
   "source": [
    "## JSON\n",
    "* JSON is basically a format used to store or represent data.\n",
    "\n",
    "### Features\n",
    "* create json data\n",
    "* read json data objects & arrays\n",
    "* read JSON from a file\n",
    "* write JSON to a file\n",
    "\n",
    "### Applications\n",
    "* Its common use cases include web development and configuration files.\n",
    "* <u>Web Development:</u> JSON is commonly used to send data from the server to the client and vice versa in web applications.\n",
    "![](./images/image-65.png)\n",
    "* <u>Configuration files:</u> JSON is also used to store configurations and settings. To create any App on Google Chrome, a file - `manifest.json` is needed.\n",
    "\n",
    "### References\n",
    "* [Python Read JSON File – How to Load JSON from a File and Parse Dumps by freeCodeCamp](https://www.freecodecamp.org/news/python-read-json-file-how-to-load-json-from-a-file-and-parse-dumps/)"
   ]
  },
  {
   "cell_type": "markdown",
   "metadata": {},
   "source": [
    "### JSON Structure\n",
    "```json\n",
    "{ \n",
    "\t\"size\": \"medium\",\n",
    "\t\"price\": 15.67,\n",
    "\t\"toppings\": [\"mushrooms\", \"pepperoni\", \"basil\"],\n",
    "\t\"extra_cheese\": false,\n",
    "\t\"delivery\": true,\n",
    "\t\"client\": {\n",
    "\t\t\"name\": \"Jane Doe\",\n",
    "\t\t\"phone\": null,\n",
    "\t\t\"email\": \"janedoe@email.com\"\n",
    "\t}\n",
    "}\n",
    "```\n",
    "* the main characteristics are:\n",
    "    - There is a sequence of key-value pairs surrounded by curly brackets `{}`\n",
    "    - Each key is mapped to a particular value using this format:\n",
    "```\n",
    "\"key\": <value>\n",
    "```\n",
    "> Tip: The values that require quotes have to be surrounded by double quotes.\n",
    "    - Key-value pairs are separated by a comma. Only the last pair is not followed by a comma.\n",
    "```\n",
    "{\n",
    "\t\"size\": \"medium\", # Comma!\n",
    "\t\"price\": 15.67\n",
    "}\n",
    "```\n",
    "\n",
    "### JSON Data Types: Keys and Values\n",
    "* Keys must be strings.\n",
    "* Values can be either a string, a number, an array, a boolean value (`true`/ `false`), `null`, or a JSON object.\n",
    "\n",
    "> Keys in key/value pairs of JSON are always of the type `str`. When a dictionary is converted into JSON, all the keys of the dictionary are coerced to strings."
   ]
  },
  {
   "cell_type": "markdown",
   "metadata": {},
   "source": []
  }
 ],
 "metadata": {
  "kernelspec": {
   "display_name": "Python 3",
   "language": "python",
   "name": "python3"
  },
  "language_info": {
   "codemirror_mode": {
    "name": "ipython",
    "version": 3
   },
   "file_extension": ".py",
   "mimetype": "text/x-python",
   "name": "python",
   "nbconvert_exporter": "python",
   "pygments_lexer": "ipython3",
   "version": "3.8.5"
  }
 },
 "nbformat": 4,
 "nbformat_minor": 4
}
